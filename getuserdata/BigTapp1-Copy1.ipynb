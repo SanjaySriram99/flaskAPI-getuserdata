{
 "cells": [
  {
   "cell_type": "code",
   "execution_count": 1,
   "metadata": {},
   "outputs": [],
   "source": [
    "import pandas as pd\n",
    "import json"
   ]
  },
  {
   "cell_type": "code",
   "execution_count": 2,
   "metadata": {},
   "outputs": [
    {
     "name": "stdout",
     "output_type": "stream",
     "text": [
      "Enter email: rpawlyn0@foxnews.com\n"
     ]
    }
   ],
   "source": [
    "email = input(\"Enter email: \")"
   ]
  },
  {
   "cell_type": "code",
   "execution_count": 3,
   "metadata": {
    "scrolled": false
   },
   "outputs": [],
   "source": [
    "df = pd.read_excel(\"Dummy data V 1.2 tableau.xlsx\")"
   ]
  },
  {
   "cell_type": "code",
   "execution_count": null,
   "metadata": {},
   "outputs": [],
   "source": [
    "rpawlyn0@foxnews.com"
   ]
  },
  {
   "cell_type": "code",
   "execution_count": 4,
   "metadata": {},
   "outputs": [
    {
     "data": {
      "text/plain": [
       "'rpawlyn0@foxnews.com'"
      ]
     },
     "execution_count": 4,
     "metadata": {},
     "output_type": "execute_result"
    }
   ],
   "source": [
    "email"
   ]
  },
  {
   "cell_type": "code",
   "execution_count": 20,
   "metadata": {},
   "outputs": [],
   "source": [
    "user = df.loc[df[df['Email']==email].index[0]]"
   ]
  },
  {
   "cell_type": "code",
   "execution_count": 37,
   "metadata": {},
   "outputs": [],
   "source": [
    "user_json = user.to_json(orient='index')"
   ]
  },
  {
   "cell_type": "code",
   "execution_count": 38,
   "metadata": {},
   "outputs": [
    {
     "data": {
      "text/plain": [
       "'{\"Customer ID\":3000,\"Membership ID\":4781,\"Email\":\"rpawlyn0@foxnews.com\",\"Contact Number\":7903467646,\"Name\":\"Ram Pawlyn\",\"Gender\":\"Female\",\"DOB\":88214400000,\"Age\":49,\"Country of Residence\":\"Japan\",\"Nationality\":\"Singapore\",\"Address\":\"45656 Northland Trail\",\"Last Property\":\"Villa\",\"Last Bill Amount\":1029,\"Avg Daily Spend in Last Visit\":398,\"Average Food Spend in Last Visit\":208,\"Last Food Order\":\"Arabian\",\"Last Check In Time\":\"12PM\",\"Last Check Out Time\":\"2PM\",\"Last Date of Visit\":1611532800000,\"Average Daily Spend \":427,\"Average length of stay in days\":1,\"Average No of people per stay\":1,\"Average amount spent for food\":\"$179 \",\"Room Type Preference\":\"Suite and Super Deluxe\",\"Food Preference\":\"Indian and Chinese\",\"Bed Type Preference\":\"Double cot\",\"Pillow Type Preference\":\"Cotton\",\"Explicit Room Type Preference\":\"cottage\",\"Explicit Food Preference\":\"Chinese\",\"Explicit Bed Type Preference\":\"Queen size bed\",\"Explicit Pillow Type Preference\":\"Memory foam\",\"Check In Time Preference\":\"2PM\",\"Check out Time Preference\":\"10AM\",\"Floor Preference\":\"Marble\",\"Room View Preference\":\"Swimming pool view\",\"Allergic To\":\"Room fresheners\",\"Explicit Requests History\":\"Beach view rooms\",\"Amenities Usage History\":\"Gym\",\"No of times Points redeemed\":2.0,\"Earned Points\":7280.0,\"Redeemed Points\":2397.0,\"Balance Points\":1627.0,\"Membership Status\":\"Active\",\"Member Since\":1495238400000,\"Family Status\":\"Married\",\"Infant Present\":\"Yes\",\"Lifetime Value\":\"$6,962.11 \",\"First Date of Visit\":1445990400000,\"R\":4,\"Total number of Stays\":8,\"Total number of Stays in last 3 Years\":3,\"F\":5,\"Lifetime Spend\":\"$8257.35\",\"Average Daily Spend  in Last Year\":\"$233.90\",\"M\":6,\"RFM Score\":456,\"RFM Segment\":4,\"Facebook\":\"Available\",\"Twitter\":\"Available\",\"Social Media Profile Details\":null,\"Last comment\":\"Good Food\",\"Last Shared Post ID\":null,\"Comments Count\":3,\"Likes Count\":6,\"Shares Count\":6,\"Business\\\\/Leisure customers\":\"Business\",\"Age Group\":\"Middle Aged\",\"Campaign channel preference\":\"Cookies\",\"Campaign Timing Preference\":\"6PM\",\"Campaign Frequency Preference\":3,\"Campaign Response Rate\":1,\"Estimated Spending Capacity Per Day\":\"$124.29\",\"Estimated Revenue Per Meal\":\"$108.03\",\"Next Best action\":\"Recommended White wine during dinner\",\"Next Arrival Date\":\"9\\\\/30\\\\/2021\",\"Hotel of Next Stay\":\"Hyatt\",\"Preffered Check In Time for Next Stay\":\"2PM\",\"Preffered Check out Time for Next Stay\":\"12PM\",\"Requests for Next Stay\":\"Memory foam pillow\",\"Referred By\":\"Friend\",\"First touch point\":\"LV\",\"Reffered Guest IDs\":1304147,\"Revenue - Room\":\"$1953.48\",\"Revenue - Food\":\"$947.52\",\"Revenue - Laundry and Ironing\":\"$183.24\",\"Revenue - Campaign\":\"$633.07\",\"Revenue - Refferals\":\"$537.00\",\"Revence - Coupons\":\"$142.42\",\"Linked Device IDs\":505,\"Average No of Devices Connected to WiFi\":3,\"Average Data Usage\":\"4GB\",\"Interests\":\"Swimming\",\"Last Review Score\":5,\"Last Review Comment\":\"Good Ambience\",\"Last Reviewed Facility\":\"Swimming Pool\",\"NPS\":\"Negative\",\"Last Call date \":1594512000000,\"Last Call reason\":\"Room change\",\"Last call status\":\"Closed\"}'"
      ]
     },
     "execution_count": 38,
     "metadata": {},
     "output_type": "execute_result"
    }
   ],
   "source": [
    "user_json"
   ]
  },
  {
   "cell_type": "code",
   "execution_count": 39,
   "metadata": {},
   "outputs": [],
   "source": [
    "parsed = json.loads(user_json)"
   ]
  },
  {
   "cell_type": "code",
   "execution_count": 40,
   "metadata": {},
   "outputs": [
    {
     "data": {
      "text/plain": [
       "{'Customer ID': 3000,\n",
       " 'Membership ID': 4781,\n",
       " 'Email': 'rpawlyn0@foxnews.com',\n",
       " 'Contact Number': 7903467646,\n",
       " 'Name': 'Ram Pawlyn',\n",
       " 'Gender': 'Female',\n",
       " 'DOB': 88214400000,\n",
       " 'Age': 49,\n",
       " 'Country of Residence': 'Japan',\n",
       " 'Nationality': 'Singapore',\n",
       " 'Address': '45656 Northland Trail',\n",
       " 'Last Property': 'Villa',\n",
       " 'Last Bill Amount': 1029,\n",
       " 'Avg Daily Spend in Last Visit': 398,\n",
       " 'Average Food Spend in Last Visit': 208,\n",
       " 'Last Food Order': 'Arabian',\n",
       " 'Last Check In Time': '12PM',\n",
       " 'Last Check Out Time': '2PM',\n",
       " 'Last Date of Visit': 1611532800000,\n",
       " 'Average Daily Spend ': 427,\n",
       " 'Average length of stay in days': 1,\n",
       " 'Average No of people per stay': 1,\n",
       " 'Average amount spent for food': '$179 ',\n",
       " 'Room Type Preference': 'Suite and Super Deluxe',\n",
       " 'Food Preference': 'Indian and Chinese',\n",
       " 'Bed Type Preference': 'Double cot',\n",
       " 'Pillow Type Preference': 'Cotton',\n",
       " 'Explicit Room Type Preference': 'cottage',\n",
       " 'Explicit Food Preference': 'Chinese',\n",
       " 'Explicit Bed Type Preference': 'Queen size bed',\n",
       " 'Explicit Pillow Type Preference': 'Memory foam',\n",
       " 'Check In Time Preference': '2PM',\n",
       " 'Check out Time Preference': '10AM',\n",
       " 'Floor Preference': 'Marble',\n",
       " 'Room View Preference': 'Swimming pool view',\n",
       " 'Allergic To': 'Room fresheners',\n",
       " 'Explicit Requests History': 'Beach view rooms',\n",
       " 'Amenities Usage History': 'Gym',\n",
       " 'No of times Points redeemed': 2.0,\n",
       " 'Earned Points': 7280.0,\n",
       " 'Redeemed Points': 2397.0,\n",
       " 'Balance Points': 1627.0,\n",
       " 'Membership Status': 'Active',\n",
       " 'Member Since': 1495238400000,\n",
       " 'Family Status': 'Married',\n",
       " 'Infant Present': 'Yes',\n",
       " 'Lifetime Value': '$6,962.11 ',\n",
       " 'First Date of Visit': 1445990400000,\n",
       " 'R': 4,\n",
       " 'Total number of Stays': 8,\n",
       " 'Total number of Stays in last 3 Years': 3,\n",
       " 'F': 5,\n",
       " 'Lifetime Spend': '$8257.35',\n",
       " 'Average Daily Spend  in Last Year': '$233.90',\n",
       " 'M': 6,\n",
       " 'RFM Score': 456,\n",
       " 'RFM Segment': 4,\n",
       " 'Facebook': 'Available',\n",
       " 'Twitter': 'Available',\n",
       " 'Social Media Profile Details': None,\n",
       " 'Last comment': 'Good Food',\n",
       " 'Last Shared Post ID': None,\n",
       " 'Comments Count': 3,\n",
       " 'Likes Count': 6,\n",
       " 'Shares Count': 6,\n",
       " 'Business/Leisure customers': 'Business',\n",
       " 'Age Group': 'Middle Aged',\n",
       " 'Campaign channel preference': 'Cookies',\n",
       " 'Campaign Timing Preference': '6PM',\n",
       " 'Campaign Frequency Preference': 3,\n",
       " 'Campaign Response Rate': 1,\n",
       " 'Estimated Spending Capacity Per Day': '$124.29',\n",
       " 'Estimated Revenue Per Meal': '$108.03',\n",
       " 'Next Best action': 'Recommended White wine during dinner',\n",
       " 'Next Arrival Date': '9/30/2021',\n",
       " 'Hotel of Next Stay': 'Hyatt',\n",
       " 'Preffered Check In Time for Next Stay': '2PM',\n",
       " 'Preffered Check out Time for Next Stay': '12PM',\n",
       " 'Requests for Next Stay': 'Memory foam pillow',\n",
       " 'Referred By': 'Friend',\n",
       " 'First touch point': 'LV',\n",
       " 'Reffered Guest IDs': 1304147,\n",
       " 'Revenue - Room': '$1953.48',\n",
       " 'Revenue - Food': '$947.52',\n",
       " 'Revenue - Laundry and Ironing': '$183.24',\n",
       " 'Revenue - Campaign': '$633.07',\n",
       " 'Revenue - Refferals': '$537.00',\n",
       " 'Revence - Coupons': '$142.42',\n",
       " 'Linked Device IDs': 505,\n",
       " 'Average No of Devices Connected to WiFi': 3,\n",
       " 'Average Data Usage': '4GB',\n",
       " 'Interests': 'Swimming',\n",
       " 'Last Review Score': 5,\n",
       " 'Last Review Comment': 'Good Ambience',\n",
       " 'Last Reviewed Facility': 'Swimming Pool',\n",
       " 'NPS': 'Negative',\n",
       " 'Last Call date ': 1594512000000,\n",
       " 'Last Call reason': 'Room change',\n",
       " 'Last call status': 'Closed'}"
      ]
     },
     "execution_count": 40,
     "metadata": {},
     "output_type": "execute_result"
    }
   ],
   "source": [
    "parsed"
   ]
  },
  {
   "cell_type": "code",
   "execution_count": 41,
   "metadata": {},
   "outputs": [
    {
     "data": {
      "text/plain": [
       "dict"
      ]
     },
     "execution_count": 41,
     "metadata": {},
     "output_type": "execute_result"
    }
   ],
   "source": [
    "type(parsed)"
   ]
  },
  {
   "cell_type": "code",
   "execution_count": null,
   "metadata": {},
   "outputs": [],
   "source": []
  }
 ],
 "metadata": {
  "kernelspec": {
   "display_name": "Python 3",
   "language": "python",
   "name": "python3"
  },
  "language_info": {
   "codemirror_mode": {
    "name": "ipython",
    "version": 3
   },
   "file_extension": ".py",
   "mimetype": "text/x-python",
   "name": "python",
   "nbconvert_exporter": "python",
   "pygments_lexer": "ipython3",
   "version": "3.8.5"
  }
 },
 "nbformat": 4,
 "nbformat_minor": 4
}
